{
 "cells": [
  {
   "cell_type": "markdown",
   "id": "ba1ea774",
   "metadata": {},
   "source": [
    "# Data Import"
   ]
  },
  {
   "cell_type": "code",
   "execution_count": 1,
   "id": "6fd621e0",
   "metadata": {},
   "outputs": [],
   "source": [
    "from sklearn import datasets\n",
    "from sklearn.model_selection import train_test_split as data_split"
   ]
  },
  {
   "cell_type": "code",
   "execution_count": 2,
   "id": "8007b13d",
   "metadata": {},
   "outputs": [
    {
     "data": {
      "text/plain": [
       "array([[-0.19096819,  0.9276742 ],\n",
       "       [-0.02020182,  0.94239234],\n",
       "       [ 0.60740453, -0.35453297],\n",
       "       ...,\n",
       "       [ 1.04384118,  0.1225713 ],\n",
       "       [ 0.01781968,  0.30061975],\n",
       "       [ 1.07551734,  0.05427318]])"
      ]
     },
     "execution_count": 2,
     "metadata": {},
     "output_type": "execute_result"
    }
   ],
   "source": [
    "X,y = datasets.make_moons(n_samples=1000, noise=.05,random_state=1004)\n",
    "X"
   ]
  },
  {
   "cell_type": "markdown",
   "id": "7a1c0d20",
   "metadata": {},
   "source": [
    "# K-Means algorithm"
   ]
  },
  {
   "cell_type": "code",
   "execution_count": 3,
   "id": "fedcf565",
   "metadata": {},
   "outputs": [],
   "source": [
    "from sklearn.cluster import KMeans\n",
    "from sklearn import metrics\n",
    "import matplotlib.pyplot as plt"
   ]
  },
  {
   "cell_type": "code",
   "execution_count": 4,
   "id": "2457801c",
   "metadata": {},
   "outputs": [
    {
     "data": {
      "image/png": "[encoded data removed]",
      "text/plain": [
       "<Figure size 432x288 with 1 Axes>"
      ]
     },
     "metadata": {
      "needs_background": "light"
     },
     "output_type": "display_data"
    }
   ],
   "source": [
    "#Use SSE for searching optimized K\n",
    "def sse(data):\n",
    "    sse = []\n",
    "    for i in range(1,11):\n",
    "        kmeans = KMeans(i)\n",
    "        kmeans.fit(data)\n",
    "        sse.append(kmeans.inertia_)\n",
    "    plt.plot(range(1,11),sse)\n",
    "    plt.xlabel(\"k\")\n",
    "    plt.ylabel('SSE')\n",
    "    plt.show()\n",
    "sse(X)"
   ]
  },
  {
   "cell_type": "markdown",
   "id": "f2d48faa",
   "metadata": {},
   "source": [
    "+ We can found optimized k is 2 or 4 or 10"
   ]
  },
  {
   "cell_type": "markdown",
   "id": "bc4ddb52",
   "metadata": {},
   "source": [
    "# Test"
   ]
  },
  {
   "cell_type": "code",
   "execution_count": 5,
   "id": "5e9f02a3",
   "metadata": {},
   "outputs": [],
   "source": [
    "import os\n",
    "import pandas as pd\n",
    "import numpy as np"
   ]
  },
  {
   "cell_type": "code",
   "execution_count": 6,
   "id": "d2ffd626",
   "metadata": {},
   "outputs": [
    {
     "data": {
      "text/plain": [
       "['Kmeans_result.csv',\n",
       " '2017315014_박장훈_KNN.ipynb',\n",
       " '2017315014_박장훈_K_means.ipynb',\n",
       " 'train_dataset.csv',\n",
       " 'test_dataset.csv',\n",
       " 'result.csv',\n",
       " 'Kmeans_result.txt',\n",
       " '.ipynb_checkpoints',\n",
       " 'test_moon.csv',\n",
       " 'Kmeans_predict.txt',\n",
       " '2017315014_박장훈_과제.ipynb']"
      ]
     },
     "execution_count": 6,
     "metadata": {},
     "output_type": "execute_result"
    }
   ],
   "source": [
    "os.listdir()"
   ]
  },
  {
   "cell_type": "code",
   "execution_count": 7,
   "id": "5523fec1",
   "metadata": {},
   "outputs": [],
   "source": [
    "# import test data & convert numpy array\n",
    "test = pd.read_csv('test_moon.csv')\n",
    "test = test.to_numpy()"
   ]
  },
  {
   "cell_type": "code",
   "execution_count": 8,
   "id": "45ad6cc6",
   "metadata": {},
   "outputs": [
    {
     "name": "stdout",
     "output_type": "stream",
     "text": [
      "[1 0 0 0 0 0 0 0 1 1 0 1 0 0 1 1 1 1 0 0 1 0 0 1 0 0 0 0 0 1 0 0 1 0 1 0 0\n",
      " 1 0 1 0 1 0 0 1 0 0 1 1 1 0 1 1 1 1 1 1 1 1 0 1 0 1 0 0 1 1 0 0 1 0 1 1 1\n",
      " 0 0 1 1 0 0 1 0 0 1 0 0 1 1 1 1 1 0 1 1 0 0 1 1 1 1]\n"
     ]
    }
   ],
   "source": [
    "kmeans = KMeans(2)\n",
    "kmeans.fit(X)\n",
    "pred = kmeans.predict(test)\n",
    "print(pred)"
   ]
  },
  {
   "cell_type": "code",
   "execution_count": 14,
   "id": "81f39e4d",
   "metadata": {},
   "outputs": [],
   "source": [
    "# save to file\n",
    "np.savetxt(\"KMeans_Result.txt\", pred, fmt='%d', delimiter=',')"
   ]
  },
  {
   "cell_type": "code",
   "execution_count": 9,
   "id": "826e50cd",
   "metadata": {},
   "outputs": [],
   "source": [
    "#convert test's predict values & test data to dataframe\n",
    "predict =pd.DataFrame(pred)\n",
    "test = pd.DataFrame(test)"
   ]
  },
  {
   "cell_type": "code",
   "execution_count": 10,
   "id": "fa24e54b",
   "metadata": {},
   "outputs": [],
   "source": [
    "#add values to test.csv\n",
    "test['pred'] = pred"
   ]
  },
  {
   "cell_type": "code",
   "execution_count": 11,
   "id": "f35c32fd",
   "metadata": {},
   "outputs": [],
   "source": [
    "#save scv\n",
    "test.to_csv(\"Kmeans_result.csv\")"
   ]
  },
  {
   "cell_type": "code",
   "execution_count": null,
   "id": "dd500f5d",
   "metadata": {},
   "outputs": [],
   "source": []
  }
 ],
 "metadata": {
  "kernelspec": {
   "display_name": "Python 3",
   "language": "python",
   "name": "python3"
  },
  "language_info": {
   "codemirror_mode": {
    "name": "ipython",
    "version": 3
   },
   "file_extension": ".py",
   "mimetype": "text/x-python",
   "name": "python",
   "nbconvert_exporter": "python",
   "pygments_lexer": "ipython3",
   "version": "3.7.9"
  },
  "toc": {
   "base_numbering": 1,
   "nav_menu": {},
   "number_sections": true,
   "sideBar": true,
   "skip_h1_title": false,
   "title_cell": "Table of Contents",
   "title_sidebar": "Contents",
   "toc_cell": false,
   "toc_position": {},
   "toc_section_display": true,
   "toc_window_display": false
  }
 },
 "nbformat": 4,
 "nbformat_minor": 5
}
